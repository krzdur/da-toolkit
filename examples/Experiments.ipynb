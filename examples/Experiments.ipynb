{
 "cells": [
  {
   "cell_type": "markdown",
   "metadata": {
    "collapsed": true,
    "pycharm": {
     "name": "#%% md\n"
    }
   },
   "source": [
    "Experiments"
   ]
  },
  {
   "cell_type": "markdown",
   "metadata": {
    "pycharm": {
     "name": "#%% md\n"
    }
   },
   "source": [
    "## Intro\n",
    "\n",
    "One of the most troublesome tasks that we have is running multiple statistical test (t-test)\n",
    "while analysing results of an experiment. We often have to perform this operation for\n",
    "all the metrics in a test.\n",
    "\n",
    "Here's how to do quickly. :)\n",
    "\n",
    "## Data prep\n",
    "\n",
    "The key step is to have the data prepared in a standardized way. What is absolutely necessary?\n",
    "* having each variant in a separate row;\n",
    "* having `variant` column. Its name can be different, but we need to have variant as a\n",
    "dimension;\n",
    "* having `total_users` column. Again, give it your name, but we'll need this number to\n",
    "calculate all the conversion rates;\n",
    "* list of metrics / column names that we want to perform the tests for.\n",
    "\n",
    "Below is a good example (other columns are allowed, we'll simply omit them in the analysis):\n",
    "\n",
    "| variant | total\\_users | converted\\_users1 | converted\\_users2\n",
    "| :--- | :--- | :--- | :--- |\n",
    "| us | 0 | 24386 |86 |246 |\n",
    "| us | 1 | 24376 | 376 | 243 |\n",
    "\n",
    "### Data for the analysis of statistical means\n",
    "Analyzing statistical means will require one more column (or columns) in the analyzed dataset. In order to calculate\n",
    "the t-stat for means providing variance is required. Details on how to add to the dataset will be covered in the example\n",
    "with mean analysis.\n",
    "\n",
    "## Running the test\n",
    "Having the data prepared in that way, running the tests will require just\n",
    "two of lines of code.\n",
    "\n",
    "```python\n",
    "from da_toolkit.experiments import Analysis\n",
    "Analysis(df=df, metrics=['converted_users1', 'converted_users2'])\n",
    "```\n",
    "\n",
    "The test are being run using a Python package called [statsmodels](https://www.google.com)\n",
    "(and its `proportions_ztest` function). But you don't have to worry, it produces the same\n",
    "results as the spreadsheet-based solution you may be familiar with.\n",
    "\n",
    "That's it. Let's take a look at a real-life example."
   ]
  },
  {
   "cell_type": "markdown",
   "metadata": {
    "pycharm": {
     "name": "#%% md\n"
    }
   },
   "source": [
    "## Example\n",
    "### T-test for proportions"
   ]
  },
  {
   "cell_type": "code",
   "execution_count": 1,
   "metadata": {
    "pycharm": {
     "name": "#%%\n"
    }
   },
   "outputs": [],
   "source": [
    "# importing modules\n",
    "from da_toolkit.databases import BigQuery\n",
    "from da_toolkit.experiments import Analysis"
   ]
  },
  {
   "cell_type": "markdown",
   "metadata": {
    "pycharm": {
     "name": "#%% md\n"
    }
   },
   "source": [
    "Getting my experiments data"
   ]
  },
  {
   "cell_type": "code",
   "execution_count": 2,
   "metadata": {
    "pycharm": {
     "name": "#%%\n"
    }
   },
   "outputs": [
    {
     "data": {
      "text/plain": "  variant  users  users_prod_click  users_add_to_cart  avg_prod_clicks  \\\n0       1  18172             11059              11304         1.981644   \n1       0  18336             11330              11242         1.933363   \n\n   avg_add_to_cart_clicks  var_prod_clicks  var_add_to_cart_clicks  \n0                2.823337         5.330012               19.420703  \n1                2.955880         5.235474               39.988623  ",
      "text/html": "<div>\n<style scoped>\n    .dataframe tbody tr th:only-of-type {\n        vertical-align: middle;\n    }\n\n    .dataframe tbody tr th {\n        vertical-align: top;\n    }\n\n    .dataframe thead th {\n        text-align: right;\n    }\n</style>\n<table border=\"1\" class=\"dataframe\">\n  <thead>\n    <tr style=\"text-align: right;\">\n      <th></th>\n      <th>variant</th>\n      <th>users</th>\n      <th>users_prod_click</th>\n      <th>users_add_to_cart</th>\n      <th>avg_prod_clicks</th>\n      <th>avg_add_to_cart_clicks</th>\n      <th>var_prod_clicks</th>\n      <th>var_add_to_cart_clicks</th>\n    </tr>\n  </thead>\n  <tbody>\n    <tr>\n      <th>0</th>\n      <td>1</td>\n      <td>18172</td>\n      <td>11059</td>\n      <td>11304</td>\n      <td>1.981644</td>\n      <td>2.823337</td>\n      <td>5.330012</td>\n      <td>19.420703</td>\n    </tr>\n    <tr>\n      <th>1</th>\n      <td>0</td>\n      <td>18336</td>\n      <td>11330</td>\n      <td>11242</td>\n      <td>1.933363</td>\n      <td>2.955880</td>\n      <td>5.235474</td>\n      <td>39.988623</td>\n    </tr>\n  </tbody>\n</table>\n</div>"
     },
     "execution_count": 2,
     "metadata": {},
     "output_type": "execute_result"
    }
   ],
   "source": [
    "bq = BigQuery()\n",
    "with open('queries/experiment_query.sql') as q:\n",
    "    query = q.read()\n",
    "df = bq.query(query)\n",
    "\n",
    "df['variant'] = df['variant'].astype('str') # variant has to be a string\n",
    "df"
   ]
  },
  {
   "cell_type": "markdown",
   "metadata": {
    "pycharm": {
     "name": "#%% md\n"
    }
   },
   "source": [
    "Running the tests for 2 metrics (by putting their column names as `metrics` argument)\n",
    "\n",
    "The results will be saved as 2 attributes - a dictionary (`results`) or (more convenient)\n",
    "pandas Data Frame (`results_df`)"
   ]
  },
  {
   "cell_type": "code",
   "execution_count": 3,
   "metadata": {
    "pycharm": {
     "name": "#%%\n"
    }
   },
   "outputs": [
    {
     "data": {
      "text/plain": "                                                            cvr    delta  \\\nusers_prod_click  1  0    0.617910\n1    0.608574\ndtype: float64 -0.01511   \nusers_add_to_cart 1  0    0.613111\n1    0.622056\ndtype: float64  0.01459   \n\n                       z_stat     p_val     power           res  \nusers_prod_click  1  1.831522  0.067023  0.574299  significant!  \nusers_add_to_cart 1 -1.758425  0.078675  0.545563  significant!  ",
      "text/html": "<div>\n<style scoped>\n    .dataframe tbody tr th:only-of-type {\n        vertical-align: middle;\n    }\n\n    .dataframe tbody tr th {\n        vertical-align: top;\n    }\n\n    .dataframe thead th {\n        text-align: right;\n    }\n</style>\n<table border=\"1\" class=\"dataframe\">\n  <thead>\n    <tr style=\"text-align: right;\">\n      <th></th>\n      <th></th>\n      <th>cvr</th>\n      <th>delta</th>\n      <th>z_stat</th>\n      <th>p_val</th>\n      <th>power</th>\n      <th>res</th>\n    </tr>\n  </thead>\n  <tbody>\n    <tr>\n      <th>users_prod_click</th>\n      <th>1</th>\n      <td>0    0.617910\n1    0.608574\ndtype: float64</td>\n      <td>-0.01511</td>\n      <td>1.831522</td>\n      <td>0.067023</td>\n      <td>0.574299</td>\n      <td>significant!</td>\n    </tr>\n    <tr>\n      <th>users_add_to_cart</th>\n      <th>1</th>\n      <td>0    0.613111\n1    0.622056\ndtype: float64</td>\n      <td>0.01459</td>\n      <td>-1.758425</td>\n      <td>0.078675</td>\n      <td>0.545563</td>\n      <td>significant!</td>\n    </tr>\n  </tbody>\n</table>\n</div>"
     },
     "execution_count": 3,
     "metadata": {},
     "output_type": "execute_result"
    }
   ],
   "source": [
    "exp = Analysis(df=df, metrics=['users_prod_click', 'users_add_to_cart'], total_col='users', alpha=0.1)\n",
    "exp.results_df"
   ]
  },
  {
   "cell_type": "markdown",
   "metadata": {
    "pycharm": {
     "name": "#%% md\n"
    }
   },
   "source": [
    "We got the results as a table listing all of my analyzed metrics and results of the test in columns. As the variants were artificially created, there are no significant differences between them."
   ]
  },
  {
   "cell_type": "markdown",
   "source": [
    "### T-test for means\n",
    "Similarly, we will run the tests for 2 metrics (again, by putting their column names as `metrics` argument).\n",
    "This time we'll also have to specify columns that hold respective variance value for the metrics. If we don't `Analysis`\n",
    "will assume that the data contains columns that have the same names as metrics but with `var_` preffix.\n",
    "\n",
    "To specify running the test for means we add one more argument `kind='mean'`."
   ],
   "metadata": {
    "collapsed": false
   }
  },
  {
   "cell_type": "code",
   "execution_count": 4,
   "outputs": [
    {
     "data": {
      "text/plain": "                                                              mean     delta  \\\navg_prod_clicks        1  [1.9333627537511033, 1.9816439099376078]  0.024973   \navg_add_to_cart_clicks 1  [2.9558797367016543, 2.8233368719037513] -0.044840   \n\n                            t_stat     p_val           res  \navg_prod_clicks        1 -2.006856  0.044772  significant!  \navg_add_to_cart_clicks 1  2.321487  0.020266  significant!  ",
      "text/html": "<div>\n<style scoped>\n    .dataframe tbody tr th:only-of-type {\n        vertical-align: middle;\n    }\n\n    .dataframe tbody tr th {\n        vertical-align: top;\n    }\n\n    .dataframe thead th {\n        text-align: right;\n    }\n</style>\n<table border=\"1\" class=\"dataframe\">\n  <thead>\n    <tr style=\"text-align: right;\">\n      <th></th>\n      <th></th>\n      <th>mean</th>\n      <th>delta</th>\n      <th>t_stat</th>\n      <th>p_val</th>\n      <th>res</th>\n    </tr>\n  </thead>\n  <tbody>\n    <tr>\n      <th>avg_prod_clicks</th>\n      <th>1</th>\n      <td>[1.9333627537511033, 1.9816439099376078]</td>\n      <td>0.024973</td>\n      <td>-2.006856</td>\n      <td>0.044772</td>\n      <td>significant!</td>\n    </tr>\n    <tr>\n      <th>avg_add_to_cart_clicks</th>\n      <th>1</th>\n      <td>[2.9558797367016543, 2.8233368719037513]</td>\n      <td>-0.044840</td>\n      <td>2.321487</td>\n      <td>0.020266</td>\n      <td>significant!</td>\n    </tr>\n  </tbody>\n</table>\n</div>"
     },
     "execution_count": 4,
     "metadata": {},
     "output_type": "execute_result"
    }
   ],
   "source": [
    "metrics = ['avg_prod_clicks', 'avg_add_to_cart_clicks']\n",
    "variances = ['var_prod_clicks', 'var_add_to_cart_clicks']\n",
    "exp = Analysis(df=df, metrics=metrics, variances=variances, total_col='users', alpha=0.05, kind='mean')\n",
    "exp.results_df"
   ],
   "metadata": {
    "collapsed": false,
    "pycharm": {
     "name": "#%%\n"
    }
   }
  }
 ],
 "metadata": {
  "kernelspec": {
   "name": "venv",
   "language": "python",
   "display_name": "venv"
  },
  "language_info": {
   "codemirror_mode": {
    "name": "ipython",
    "version": 3
   },
   "file_extension": ".py",
   "mimetype": "text/x-python",
   "name": "python",
   "nbconvert_exporter": "python",
   "pygments_lexer": "ipython3",
   "version": "3.9.2"
  }
 },
 "nbformat": 4,
 "nbformat_minor": 1
}