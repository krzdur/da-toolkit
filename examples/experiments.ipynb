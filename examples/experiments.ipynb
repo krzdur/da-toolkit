{
 "cells": [
  {
   "cell_type": "markdown",
   "metadata": {
    "collapsed": true,
    "pycharm": {
     "name": "#%% md\n"
    }
   },
   "source": [
    "Experiments"
   ]
  },
  {
   "cell_type": "markdown",
   "metadata": {
    "pycharm": {
     "name": "#%% md\n"
    }
   },
   "source": [
    "## Intro\n",
    "\n",
    "One of the most troublesome tasks that we have is running multiple statistical test (z-test)\n",
    "while analysing results of an experiment. We often have to perform this operation for\n",
    "all the metrics in a test.\n",
    "\n",
    "Here's how to do quickly. :)\n",
    "\n",
    "## Data prep\n",
    "\n",
    "The key step is to have the data prepared in a standardized way. What is absolutely necessary:\n",
    "* having each variant in a separate row\n",
    "* having `variant` column. Its name can be different, but we need to have variant as a\n",
    "dimension\n",
    "* having `total_users` column. Again, give it your name, but we'll need this number to\n",
    "calculate all the conversion rates\n",
    "* list of metrics / column names that we want to perform the tests for \n",
    "\n",
    "Below is a good example (other columns are allowed, we'll simply omit them in the analysis):\n",
    "\n",
    "| date | market | variant | total\\_users | converted\\_users1 | converted\\_users2\n",
    "| :--- | :--- | :--- | :--- | :--- | :--- |\n",
    "| 2021-04-23 | us | 0 | 24386 |86 |246 |\n",
    "| 2021-04-23 | us | 1 | 24376 | 376 | 243 |\n",
    "\n",
    "## Running the test\n",
    "Having the data prepared in that way, running the tests will require just\n",
    "two of lines of code.\n",
    "\n",
    "```python\n",
    "from da_toolkit.experiments import Analysis\n",
    "Analysis(df=df, metrics=['converted_users1', 'converted_users2'])\n",
    "```\n",
    "\n",
    "That's it. Let's take a look at a real-life example."
   ]
  },
  {
   "cell_type": "markdown",
   "source": [
    "## Example"
   ],
   "metadata": {
    "collapsed": false,
    "pycharm": {
     "name": "#%% md\n"
    }
   }
  },
  {
   "cell_type": "code",
   "execution_count": 1,
   "outputs": [],
   "source": [
    "# importing components\n",
    "from da_toolkit.databases import BigQuery\n",
    "from da_toolkit.experiments import Analysis"
   ],
   "metadata": {
    "collapsed": false,
    "pycharm": {
     "name": "#%%\n"
    }
   }
  },
  {
   "cell_type": "markdown",
   "source": [
    "Getting my experiments data"
   ],
   "metadata": {
    "collapsed": false,
    "pycharm": {
     "name": "#%% md\n"
    }
   }
  },
  {
   "cell_type": "code",
   "execution_count": 2,
   "outputs": [
    {
     "data": {
      "text/plain": "         date market variant  total_users  users_add_answer  \\\n0  2021-02-26     us       2        24830               416   \n1  2021-02-26     us       0        25280               424   \n2  2021-02-26     us       1        24900               401   \n\n   users_add_question  users_app_exception  events_app_exception  \\\n0                 925                  115                   212   \n1                 911                  118                   182   \n2                 947                  117                   203   \n\n   users_content_block  events_content_block  ...  users_sign_up  \\\n0                 7671                 51052  ...           1074   \n1                 7846                 49936  ...           1089   \n2                 7744                 44397  ...           1046   \n\n   users_answer_display  users_answer_read  users_tutoring_intro  \\\n0                 20472              20226                  1873   \n1                 21007              20744                  1872   \n2                 20642              20355                  1845   \n\n   users_subs_form_tut  total_subs  tutoring_subs  bplus_subs  \\\n0                 1559         274             72         204   \n1                 1559         242             72         170   \n2                 1508         272             72         200   \n\n   metering_tutoring_subs  metering_bplus_subs  \n0                      53                  203  \n1                      51                  170  \n2                      52                  200  \n\n[3 rows x 23 columns]",
      "text/html": "<div>\n<style scoped>\n    .dataframe tbody tr th:only-of-type {\n        vertical-align: middle;\n    }\n\n    .dataframe tbody tr th {\n        vertical-align: top;\n    }\n\n    .dataframe thead th {\n        text-align: right;\n    }\n</style>\n<table border=\"1\" class=\"dataframe\">\n  <thead>\n    <tr style=\"text-align: right;\">\n      <th></th>\n      <th>date</th>\n      <th>market</th>\n      <th>variant</th>\n      <th>total_users</th>\n      <th>users_add_answer</th>\n      <th>users_add_question</th>\n      <th>users_app_exception</th>\n      <th>events_app_exception</th>\n      <th>users_content_block</th>\n      <th>events_content_block</th>\n      <th>...</th>\n      <th>users_sign_up</th>\n      <th>users_answer_display</th>\n      <th>users_answer_read</th>\n      <th>users_tutoring_intro</th>\n      <th>users_subs_form_tut</th>\n      <th>total_subs</th>\n      <th>tutoring_subs</th>\n      <th>bplus_subs</th>\n      <th>metering_tutoring_subs</th>\n      <th>metering_bplus_subs</th>\n    </tr>\n  </thead>\n  <tbody>\n    <tr>\n      <th>0</th>\n      <td>2021-02-26</td>\n      <td>us</td>\n      <td>2</td>\n      <td>24830</td>\n      <td>416</td>\n      <td>925</td>\n      <td>115</td>\n      <td>212</td>\n      <td>7671</td>\n      <td>51052</td>\n      <td>...</td>\n      <td>1074</td>\n      <td>20472</td>\n      <td>20226</td>\n      <td>1873</td>\n      <td>1559</td>\n      <td>274</td>\n      <td>72</td>\n      <td>204</td>\n      <td>53</td>\n      <td>203</td>\n    </tr>\n    <tr>\n      <th>1</th>\n      <td>2021-02-26</td>\n      <td>us</td>\n      <td>0</td>\n      <td>25280</td>\n      <td>424</td>\n      <td>911</td>\n      <td>118</td>\n      <td>182</td>\n      <td>7846</td>\n      <td>49936</td>\n      <td>...</td>\n      <td>1089</td>\n      <td>21007</td>\n      <td>20744</td>\n      <td>1872</td>\n      <td>1559</td>\n      <td>242</td>\n      <td>72</td>\n      <td>170</td>\n      <td>51</td>\n      <td>170</td>\n    </tr>\n    <tr>\n      <th>2</th>\n      <td>2021-02-26</td>\n      <td>us</td>\n      <td>1</td>\n      <td>24900</td>\n      <td>401</td>\n      <td>947</td>\n      <td>117</td>\n      <td>203</td>\n      <td>7744</td>\n      <td>44397</td>\n      <td>...</td>\n      <td>1046</td>\n      <td>20642</td>\n      <td>20355</td>\n      <td>1845</td>\n      <td>1508</td>\n      <td>272</td>\n      <td>72</td>\n      <td>200</td>\n      <td>52</td>\n      <td>200</td>\n    </tr>\n  </tbody>\n</table>\n<p>3 rows × 23 columns</p>\n</div>"
     },
     "execution_count": 2,
     "metadata": {},
     "output_type": "execute_result"
    }
   ],
   "source": [
    "bq = BigQuery(project='brainly-tutoring')\n",
    "query = \"SELECT * FROM `brainly-tutoring.experiments.us_and_PlansInMetering` WHERE date = '2021-02-26'\"\n",
    "df = bq.query(query)\n",
    "\n",
    "df"
   ],
   "metadata": {
    "collapsed": false,
    "pycharm": {
     "name": "#%%\n"
    }
   }
  },
  {
   "cell_type": "markdown",
   "source": [
    "Running the tests for 3 metrics (by putting their column names as `metrics` argument)\n",
    "\n",
    "The results will be saved as 2 attributes - a dictionary (`results`) or (more convenient)\n",
    "pandas Data Frame (`results_df`)"
   ],
   "metadata": {
    "collapsed": false,
    "pycharm": {
     "name": "#%% md\n"
    }
   }
  },
  {
   "cell_type": "code",
   "execution_count": 6,
   "outputs": [
    {
     "data": {
      "text/plain": "                                                           cvr     delta  \\\nusers_add_answer 1  0    0.016754\n1    0.016772\ndtype: float64  0.001088   \n                 2  0    0.016754\n1    0.016104\ndtype: float64 -0.038768   \nbplus_subs       1  0    0.008216\n1    0.006725\ndtype: float64 -0.181501   \n                 2  0    0.008216\n1    0.008032\ndtype: float64 -0.022364   \ntutoring_subs    1  0    0.002900\n1    0.002848\ndtype: float64 -0.017801   \n                 2  0    0.002900\n1    0.002892\ndtype: float64 -0.002811   \n\n                      z_stat     p_val     power              res  \nusers_add_answer 1 -0.015888  0.493662  0.050029  not significant  \n                 2  0.569717  0.284435  0.087938  not significant  \nbplus_subs       1  1.939096  0.026245  0.492341     significant!  \n                 2  0.228229  0.409734  0.055988  not significant  \ntutoring_subs    1  0.107922  0.457029  0.051335  not significant  \n                 2  0.016916  0.493252  0.050033  not significant  ",
      "text/html": "<div>\n<style scoped>\n    .dataframe tbody tr th:only-of-type {\n        vertical-align: middle;\n    }\n\n    .dataframe tbody tr th {\n        vertical-align: top;\n    }\n\n    .dataframe thead th {\n        text-align: right;\n    }\n</style>\n<table border=\"1\" class=\"dataframe\">\n  <thead>\n    <tr style=\"text-align: right;\">\n      <th></th>\n      <th></th>\n      <th>cvr</th>\n      <th>delta</th>\n      <th>z_stat</th>\n      <th>p_val</th>\n      <th>power</th>\n      <th>res</th>\n    </tr>\n  </thead>\n  <tbody>\n    <tr>\n      <th rowspan=\"2\" valign=\"top\">users_add_answer</th>\n      <th>1</th>\n      <td>0    0.016754\n1    0.016772\ndtype: float64</td>\n      <td>0.001088</td>\n      <td>-0.015888</td>\n      <td>0.493662</td>\n      <td>0.050029</td>\n      <td>not significant</td>\n    </tr>\n    <tr>\n      <th>2</th>\n      <td>0    0.016754\n1    0.016104\ndtype: float64</td>\n      <td>-0.038768</td>\n      <td>0.569717</td>\n      <td>0.284435</td>\n      <td>0.087938</td>\n      <td>not significant</td>\n    </tr>\n    <tr>\n      <th rowspan=\"2\" valign=\"top\">bplus_subs</th>\n      <th>1</th>\n      <td>0    0.008216\n1    0.006725\ndtype: float64</td>\n      <td>-0.181501</td>\n      <td>1.939096</td>\n      <td>0.026245</td>\n      <td>0.492341</td>\n      <td>significant!</td>\n    </tr>\n    <tr>\n      <th>2</th>\n      <td>0    0.008216\n1    0.008032\ndtype: float64</td>\n      <td>-0.022364</td>\n      <td>0.228229</td>\n      <td>0.409734</td>\n      <td>0.055988</td>\n      <td>not significant</td>\n    </tr>\n    <tr>\n      <th rowspan=\"2\" valign=\"top\">tutoring_subs</th>\n      <th>1</th>\n      <td>0    0.002900\n1    0.002848\ndtype: float64</td>\n      <td>-0.017801</td>\n      <td>0.107922</td>\n      <td>0.457029</td>\n      <td>0.051335</td>\n      <td>not significant</td>\n    </tr>\n    <tr>\n      <th>2</th>\n      <td>0    0.002900\n1    0.002892\ndtype: float64</td>\n      <td>-0.002811</td>\n      <td>0.016916</td>\n      <td>0.493252</td>\n      <td>0.050033</td>\n      <td>not significant</td>\n    </tr>\n  </tbody>\n</table>\n</div>"
     },
     "execution_count": 6,
     "metadata": {},
     "output_type": "execute_result"
    }
   ],
   "source": [
    "exp = Analysis(df=df, metrics=['users_add_answer', 'bplus_subs', 'tutoring_subs'])\n",
    "exp.results_df"
   ],
   "metadata": {
    "collapsed": false,
    "pycharm": {
     "name": "#%%\n"
    }
   }
  },
  {
   "cell_type": "markdown",
   "source": [
    "I got the results as a table listing all of my analyzed metrics and results of the test\n",
    "in columns.\n",
    "\n",
    "I will continue updateing documentation of `da_toolkit` to describe all the capabilities.\n",
    "You can alway run `help()` to get to know more about a module."
   ],
   "metadata": {
    "collapsed": false,
    "pycharm": {
     "name": "#%% md\n"
    }
   }
  },
  {
   "cell_type": "code",
   "execution_count": 7,
   "outputs": [
    {
     "name": "stdout",
     "output_type": "stream",
     "text": [
      "Help on class Analysis in module da_toolkit.experiments:\n",
      "\n",
      "class Analysis(builtins.object)\n",
      " |  Analysis(df, metrics, total_col='total_users', variant_col='variant', alpha=0.05)\n",
      " |  \n",
      " |  Methods defined here:\n",
      " |  \n",
      " |  __init__(self, df, metrics, total_col='total_users', variant_col='variant', alpha=0.05)\n",
      " |      Initialize self.  See help(type(self)) for accurate signature.\n",
      " |  \n",
      " |  get_variants(self)\n",
      " |  \n",
      " |  run(self)\n",
      " |  \n",
      " |  save_to_df(self)\n",
      " |  \n",
      " |  test_metric(self, metric)\n",
      " |  \n",
      " |  ----------------------------------------------------------------------\n",
      " |  Data descriptors defined here:\n",
      " |  \n",
      " |  __dict__\n",
      " |      dictionary for instance variables (if defined)\n",
      " |  \n",
      " |  __weakref__\n",
      " |      list of weak references to the object (if defined)\n",
      "\n"
     ]
    }
   ],
   "source": [
    "help(Analysis)"
   ],
   "metadata": {
    "collapsed": false,
    "pycharm": {
     "name": "#%%\n"
    }
   }
  }
 ],
 "metadata": {
  "kernelspec": {
   "display_name": "Python 3",
   "language": "python",
   "name": "python3"
  },
  "language_info": {
   "codemirror_mode": {
    "name": "ipython",
    "version": 3
   },
   "file_extension": ".py",
   "mimetype": "text/x-python",
   "name": "python",
   "nbconvert_exporter": "python",
   "pygments_lexer": "ipython3",
   "version": "3.9.2"
  }
 },
 "nbformat": 4,
 "nbformat_minor": 1
}