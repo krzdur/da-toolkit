{
 "cells": [
  {
   "cell_type": "markdown",
   "metadata": {
    "collapsed": true,
    "pycharm": {
     "name": "#%% md\n"
    }
   },
   "source": [
    "Experiments"
   ]
  },
  {
   "cell_type": "markdown",
   "metadata": {
    "pycharm": {
     "name": "#%% md\n"
    }
   },
   "source": [
    "## Intro\n",
    "\n",
    "One of the most troublesome tasks that we have is running multiple statistical test (z-test)\n",
    "while analysing results of an experiment. We often have to perform this operation for\n",
    "all the metrics in a test.\n",
    "\n",
    "Here's how to do quickly. :)\n",
    "\n",
    "## Data prep\n",
    "\n",
    "The key step is to have the data prepared in a standardized way. What is absolutely necessary?\n",
    "* having each variant in a separate row;\n",
    "* having `variant` column. Its name can be different, but we need to have variant as a\n",
    "dimension;\n",
    "* having `total_users` column. Again, give it your name, but we'll need this number to\n",
    "calculate all the conversion rates;\n",
    "* list of metrics / column names that we want to perform the tests for.\n",
    "\n",
    "Below is a good example (other columns are allowed, we'll simply omit them in the analysis):\n",
    "\n",
    "| date | market | variant | total\\_users | converted\\_users1 | converted\\_users2\n",
    "| :--- | :--- | :--- | :--- | :--- | :--- |\n",
    "| 2021-04-23 | us | 0 | 24386 |86 |246 |\n",
    "| 2021-04-23 | us | 1 | 24376 | 376 | 243 |\n",
    "\n",
    "### Data for the analysis of statistical means\n",
    "Analyzing statistical means will require one more column (or columns) in the analyzed dataset. In order to calculate\n",
    "the t-stat for means providing variance is required. Details on how to add to the dataset will be covered in the example\n",
    "with mean analysis.\n",
    "\n",
    "## Running the test\n",
    "Having the data prepared in that way, running the tests will require just\n",
    "two of lines of code.\n",
    "\n",
    "```python\n",
    "from da_toolkit.experiments import Analysis\n",
    "Analysis(df=df, metrics=['converted_users1', 'converted_users2'])\n",
    "```\n",
    "\n",
    "The test are being run using a Python package called [statsmodels](https://www.google.com)\n",
    "(and its `proportions_ztest` function). But you don't have to worry, it produces the same\n",
    "results as the spreadsheet-based solution you may be familiar with.\n",
    "\n",
    "That's it. Let's take a look at a real-life example."
   ]
  },
  {
   "cell_type": "markdown",
   "metadata": {
    "pycharm": {
     "name": "#%% md\n"
    }
   },
   "source": [
    "## Example\n",
    "### T-test for proportions"
   ]
  },
  {
   "cell_type": "code",
   "execution_count": 1,
   "metadata": {
    "pycharm": {
     "name": "#%%\n"
    }
   },
   "outputs": [],
   "source": [
    "# importing components\n",
    "from da_toolkit.databases import BigQuery\n",
    "from da_toolkit.experiments import Analysis"
   ]
  },
  {
   "cell_type": "markdown",
   "metadata": {
    "pycharm": {
     "name": "#%% md\n"
    }
   },
   "source": [
    "Getting my experiments data"
   ]
  },
  {
   "cell_type": "code",
   "execution_count": 2,
   "metadata": {
    "pycharm": {
     "name": "#%%\n"
    }
   },
   "outputs": [
    {
     "data": {
      "text/plain": "         date market variant  total_users  users_add_answer  \\\n0  2021-02-26     us       2        24830               416   \n1  2021-02-26     us       0        25280               424   \n2  2021-02-26     us       1        24900               401   \n\n   users_add_question  users_app_exception  events_app_exception  \\\n0                 925                  115                   212   \n1                 911                  118                   182   \n2                 947                  117                   203   \n\n   users_content_block  events_content_block  ...  users_sign_up  \\\n0                 7671                 51052  ...           1074   \n1                 7846                 49936  ...           1089   \n2                 7744                 44397  ...           1046   \n\n   users_answer_display  users_answer_read  users_tutoring_intro  \\\n0                 20472              20226                  1873   \n1                 21007              20744                  1872   \n2                 20642              20355                  1845   \n\n   users_subs_form_tut  total_subs  tutoring_subs  bplus_subs  \\\n0                 1559         274             72         204   \n1                 1559         242             72         170   \n2                 1508         272             72         200   \n\n   metering_tutoring_subs  metering_bplus_subs  \n0                      53                  203  \n1                      51                  170  \n2                      52                  200  \n\n[3 rows x 23 columns]",
      "text/html": "<div>\n<style scoped>\n    .dataframe tbody tr th:only-of-type {\n        vertical-align: middle;\n    }\n\n    .dataframe tbody tr th {\n        vertical-align: top;\n    }\n\n    .dataframe thead th {\n        text-align: right;\n    }\n</style>\n<table border=\"1\" class=\"dataframe\">\n  <thead>\n    <tr style=\"text-align: right;\">\n      <th></th>\n      <th>date</th>\n      <th>market</th>\n      <th>variant</th>\n      <th>total_users</th>\n      <th>users_add_answer</th>\n      <th>users_add_question</th>\n      <th>users_app_exception</th>\n      <th>events_app_exception</th>\n      <th>users_content_block</th>\n      <th>events_content_block</th>\n      <th>...</th>\n      <th>users_sign_up</th>\n      <th>users_answer_display</th>\n      <th>users_answer_read</th>\n      <th>users_tutoring_intro</th>\n      <th>users_subs_form_tut</th>\n      <th>total_subs</th>\n      <th>tutoring_subs</th>\n      <th>bplus_subs</th>\n      <th>metering_tutoring_subs</th>\n      <th>metering_bplus_subs</th>\n    </tr>\n  </thead>\n  <tbody>\n    <tr>\n      <th>0</th>\n      <td>2021-02-26</td>\n      <td>us</td>\n      <td>2</td>\n      <td>24830</td>\n      <td>416</td>\n      <td>925</td>\n      <td>115</td>\n      <td>212</td>\n      <td>7671</td>\n      <td>51052</td>\n      <td>...</td>\n      <td>1074</td>\n      <td>20472</td>\n      <td>20226</td>\n      <td>1873</td>\n      <td>1559</td>\n      <td>274</td>\n      <td>72</td>\n      <td>204</td>\n      <td>53</td>\n      <td>203</td>\n    </tr>\n    <tr>\n      <th>1</th>\n      <td>2021-02-26</td>\n      <td>us</td>\n      <td>0</td>\n      <td>25280</td>\n      <td>424</td>\n      <td>911</td>\n      <td>118</td>\n      <td>182</td>\n      <td>7846</td>\n      <td>49936</td>\n      <td>...</td>\n      <td>1089</td>\n      <td>21007</td>\n      <td>20744</td>\n      <td>1872</td>\n      <td>1559</td>\n      <td>242</td>\n      <td>72</td>\n      <td>170</td>\n      <td>51</td>\n      <td>170</td>\n    </tr>\n    <tr>\n      <th>2</th>\n      <td>2021-02-26</td>\n      <td>us</td>\n      <td>1</td>\n      <td>24900</td>\n      <td>401</td>\n      <td>947</td>\n      <td>117</td>\n      <td>203</td>\n      <td>7744</td>\n      <td>44397</td>\n      <td>...</td>\n      <td>1046</td>\n      <td>20642</td>\n      <td>20355</td>\n      <td>1845</td>\n      <td>1508</td>\n      <td>272</td>\n      <td>72</td>\n      <td>200</td>\n      <td>52</td>\n      <td>200</td>\n    </tr>\n  </tbody>\n</table>\n<p>3 rows × 23 columns</p>\n</div>"
     },
     "execution_count": 2,
     "metadata": {},
     "output_type": "execute_result"
    }
   ],
   "source": [
    "bq = BigQuery(project='brainly-tutoring')\n",
    "query = \"SELECT * FROM `brainly-tutoring.experiments.us_and_PlansInMetering` WHERE date = '2021-02-26'\"\n",
    "df = bq.query(query)\n",
    "\n",
    "df"
   ]
  },
  {
   "cell_type": "markdown",
   "metadata": {
    "pycharm": {
     "name": "#%% md\n"
    }
   },
   "source": [
    "Running the tests for 3 metrics (by putting their column names as `metrics` argument)\n",
    "\n",
    "The results will be saved as 2 attributes - a dictionary (`results`) or (more convenient)\n",
    "pandas Data Frame (`results_df`)"
   ]
  },
  {
   "cell_type": "code",
   "execution_count": 3,
   "metadata": {
    "pycharm": {
     "name": "#%%\n"
    }
   },
   "outputs": [
    {
     "data": {
      "text/plain": "                                                           cvr     delta  \\\nusers_add_answer 1  0    0.016772\n1    0.016104\ndtype: float64 -0.039812   \n                 2  0    0.016772\n1    0.016754\ndtype: float64 -0.001087   \nbplus_subs       1  0    0.006725\n1    0.008032\ndtype: float64  0.194425   \n                 2  0    0.006725\n1    0.008216\ndtype: float64  0.221748   \ntutoring_subs    1  0    0.002848\n1    0.002892\ndtype: float64  0.015261   \n                 2  0    0.002848\n1    0.002900\ndtype: float64  0.018123   \n\n                      z_stat     p_val     power              res  \nusers_add_answer 1  0.588118  0.556453  0.158106  not significant  \n                 2  0.015888  0.987323  0.100043  not significant  \nbplus_subs       1 -1.711661  0.086959  0.527466     significant!  \n                 2 -1.939096  0.052490  0.616473     significant!  \ntutoring_subs    1 -0.091006  0.927488  0.101405  not significant  \n                 2 -0.107922  0.914057  0.101975  not significant  ",
      "text/html": "<div>\n<style scoped>\n    .dataframe tbody tr th:only-of-type {\n        vertical-align: middle;\n    }\n\n    .dataframe tbody tr th {\n        vertical-align: top;\n    }\n\n    .dataframe thead th {\n        text-align: right;\n    }\n</style>\n<table border=\"1\" class=\"dataframe\">\n  <thead>\n    <tr style=\"text-align: right;\">\n      <th></th>\n      <th></th>\n      <th>cvr</th>\n      <th>delta</th>\n      <th>z_stat</th>\n      <th>p_val</th>\n      <th>power</th>\n      <th>res</th>\n    </tr>\n  </thead>\n  <tbody>\n    <tr>\n      <th rowspan=\"2\" valign=\"top\">users_add_answer</th>\n      <th>1</th>\n      <td>0    0.016772\n1    0.016104\ndtype: float64</td>\n      <td>-0.039812</td>\n      <td>0.588118</td>\n      <td>0.556453</td>\n      <td>0.158106</td>\n      <td>not significant</td>\n    </tr>\n    <tr>\n      <th>2</th>\n      <td>0    0.016772\n1    0.016754\ndtype: float64</td>\n      <td>-0.001087</td>\n      <td>0.015888</td>\n      <td>0.987323</td>\n      <td>0.100043</td>\n      <td>not significant</td>\n    </tr>\n    <tr>\n      <th rowspan=\"2\" valign=\"top\">bplus_subs</th>\n      <th>1</th>\n      <td>0    0.006725\n1    0.008032\ndtype: float64</td>\n      <td>0.194425</td>\n      <td>-1.711661</td>\n      <td>0.086959</td>\n      <td>0.527466</td>\n      <td>significant!</td>\n    </tr>\n    <tr>\n      <th>2</th>\n      <td>0    0.006725\n1    0.008216\ndtype: float64</td>\n      <td>0.221748</td>\n      <td>-1.939096</td>\n      <td>0.052490</td>\n      <td>0.616473</td>\n      <td>significant!</td>\n    </tr>\n    <tr>\n      <th rowspan=\"2\" valign=\"top\">tutoring_subs</th>\n      <th>1</th>\n      <td>0    0.002848\n1    0.002892\ndtype: float64</td>\n      <td>0.015261</td>\n      <td>-0.091006</td>\n      <td>0.927488</td>\n      <td>0.101405</td>\n      <td>not significant</td>\n    </tr>\n    <tr>\n      <th>2</th>\n      <td>0    0.002848\n1    0.002900\ndtype: float64</td>\n      <td>0.018123</td>\n      <td>-0.107922</td>\n      <td>0.914057</td>\n      <td>0.101975</td>\n      <td>not significant</td>\n    </tr>\n  </tbody>\n</table>\n</div>"
     },
     "execution_count": 3,
     "metadata": {},
     "output_type": "execute_result"
    }
   ],
   "source": [
    "exp = Analysis(df=df, metrics=['users_add_answer', 'bplus_subs', 'tutoring_subs'], alpha=0.1)\n",
    "exp.results_df"
   ]
  },
  {
   "cell_type": "markdown",
   "metadata": {
    "pycharm": {
     "name": "#%% md\n"
    }
   },
   "source": [
    "We got the results as a table listing all of my analyzed metrics and results of the test\n",
    "in columns."
   ]
  },
  {
   "cell_type": "markdown",
   "source": [
    "### T-test for means\n",
    "Getting my experiments data"
   ],
   "metadata": {
    "collapsed": false
   }
  },
  {
   "cell_type": "code",
   "execution_count": 4,
   "outputs": [
    {
     "data": {
      "text/plain": "  experimentVariant  user_counter  times_user_logged_prime  \\\n0                 0        114973                 0.064111   \n1                 1        115698                 0.066881   \n2                 2        114672                 0.065543   \n\n   number_of_answers_prime  number_of_questions_asked_prime  \\\n0                 0.018831                         0.015491   \n1                 0.020337                         0.014270   \n2                 0.017354                         0.015758   \n\n   number_of_search_prime  number_of_rates_prime  number_of_thanks_prime  \\\n0                1.462778               0.053830                0.063745   \n1                1.483621               0.054521                0.065498   \n2                1.482550               0.052062                0.062666   \n\n   var_times_user_logged_prime  var_number_of_answers_prime  \\\n0                     0.162826                     0.184238   \n1                     0.207512                     0.238962   \n2                     0.132914                     0.162321   \n\n   var_number_of_questions_asked_prime  var_number_of_search_prime  \\\n0                             0.047172                   33.307118   \n1                             0.046410                   34.399228   \n2                             0.054421                   35.230155   \n\n   var_number_of_rates_prime  var_number_of_thanks_prime  \n0                   0.595552                    0.717025  \n1                   0.526963                    0.755833  \n2                   0.498323                    0.639374  ",
      "text/html": "<div>\n<style scoped>\n    .dataframe tbody tr th:only-of-type {\n        vertical-align: middle;\n    }\n\n    .dataframe tbody tr th {\n        vertical-align: top;\n    }\n\n    .dataframe thead th {\n        text-align: right;\n    }\n</style>\n<table border=\"1\" class=\"dataframe\">\n  <thead>\n    <tr style=\"text-align: right;\">\n      <th></th>\n      <th>experimentVariant</th>\n      <th>user_counter</th>\n      <th>times_user_logged_prime</th>\n      <th>number_of_answers_prime</th>\n      <th>number_of_questions_asked_prime</th>\n      <th>number_of_search_prime</th>\n      <th>number_of_rates_prime</th>\n      <th>number_of_thanks_prime</th>\n      <th>var_times_user_logged_prime</th>\n      <th>var_number_of_answers_prime</th>\n      <th>var_number_of_questions_asked_prime</th>\n      <th>var_number_of_search_prime</th>\n      <th>var_number_of_rates_prime</th>\n      <th>var_number_of_thanks_prime</th>\n    </tr>\n  </thead>\n  <tbody>\n    <tr>\n      <th>0</th>\n      <td>0</td>\n      <td>114973</td>\n      <td>0.064111</td>\n      <td>0.018831</td>\n      <td>0.015491</td>\n      <td>1.462778</td>\n      <td>0.053830</td>\n      <td>0.063745</td>\n      <td>0.162826</td>\n      <td>0.184238</td>\n      <td>0.047172</td>\n      <td>33.307118</td>\n      <td>0.595552</td>\n      <td>0.717025</td>\n    </tr>\n    <tr>\n      <th>1</th>\n      <td>1</td>\n      <td>115698</td>\n      <td>0.066881</td>\n      <td>0.020337</td>\n      <td>0.014270</td>\n      <td>1.483621</td>\n      <td>0.054521</td>\n      <td>0.065498</td>\n      <td>0.207512</td>\n      <td>0.238962</td>\n      <td>0.046410</td>\n      <td>34.399228</td>\n      <td>0.526963</td>\n      <td>0.755833</td>\n    </tr>\n    <tr>\n      <th>2</th>\n      <td>2</td>\n      <td>114672</td>\n      <td>0.065543</td>\n      <td>0.017354</td>\n      <td>0.015758</td>\n      <td>1.482550</td>\n      <td>0.052062</td>\n      <td>0.062666</td>\n      <td>0.132914</td>\n      <td>0.162321</td>\n      <td>0.054421</td>\n      <td>35.230155</td>\n      <td>0.498323</td>\n      <td>0.639374</td>\n    </tr>\n  </tbody>\n</table>\n</div>"
     },
     "execution_count": 4,
     "metadata": {},
     "output_type": "execute_result"
    }
   ],
   "source": [
    "# we're using a bit different data this time\n",
    "query = \"SELECT * FROM `brainly-tutoring.experiments.us_web_TutorVerified1day2`\"\n",
    "df = bq.query(query)\n",
    "\n",
    "df"
   ],
   "metadata": {
    "collapsed": false,
    "pycharm": {
     "name": "#%%\n"
    }
   }
  },
  {
   "cell_type": "markdown",
   "source": [
    "Similarly, we will run the tests for 3 metrics (again, by putting their column names as `metrics` argument).\n",
    "This time we'll also have to specify columns that hold respective variance value for the metrics. If we don't `Analysis`\n",
    "will assume that the data contains columns that have the same names as metrics but with `var_` preffix.\n",
    "\n",
    "To specify running the test for means we add one more argument `kind='mean'`."
   ],
   "metadata": {
    "collapsed": false
   }
  },
  {
   "cell_type": "code",
   "execution_count": 7,
   "outputs": [
    {
     "data": {
      "text/plain": "                                                                           mean  \\\ntimes_user_logged_prime         1    [0.06411070425230271, 0.06688101782226144]   \n                                2    [0.06411070425230271, 0.06554346309473984]   \nnumber_of_answers_prime         1  [0.018830508032320645, 0.020337430206226578]   \n                                2  [0.018830508032320645, 0.017353844007255478]   \nnumber_of_questions_asked_prime 1  [0.015490593443678091, 0.014269909592214226]   \n                                2  [0.015490593443678091, 0.015757988000558117]   \n\n                                      delta    t_stat     p_val  \\\ntimes_user_logged_prime         1  0.043211 -1.545706  0.122177   \n                                2  0.022348 -0.892694  0.372022   \nnumber_of_answers_prime         1  0.080026 -0.786519  0.431564   \n                                2 -0.078419  0.849940  0.395359   \nnumber_of_questions_asked_prime 1 -0.078802  1.355171  0.175364   \n                                2  0.017262 -0.284286  0.776192   \n\n                                               res  \ntimes_user_logged_prime         1  not significant  \n                                2  not significant  \nnumber_of_answers_prime         1  not significant  \n                                2  not significant  \nnumber_of_questions_asked_prime 1  not significant  \n                                2  not significant  ",
      "text/html": "<div>\n<style scoped>\n    .dataframe tbody tr th:only-of-type {\n        vertical-align: middle;\n    }\n\n    .dataframe tbody tr th {\n        vertical-align: top;\n    }\n\n    .dataframe thead th {\n        text-align: right;\n    }\n</style>\n<table border=\"1\" class=\"dataframe\">\n  <thead>\n    <tr style=\"text-align: right;\">\n      <th></th>\n      <th></th>\n      <th>mean</th>\n      <th>delta</th>\n      <th>t_stat</th>\n      <th>p_val</th>\n      <th>res</th>\n    </tr>\n  </thead>\n  <tbody>\n    <tr>\n      <th rowspan=\"2\" valign=\"top\">times_user_logged_prime</th>\n      <th>1</th>\n      <td>[0.06411070425230271, 0.06688101782226144]</td>\n      <td>0.043211</td>\n      <td>-1.545706</td>\n      <td>0.122177</td>\n      <td>not significant</td>\n    </tr>\n    <tr>\n      <th>2</th>\n      <td>[0.06411070425230271, 0.06554346309473984]</td>\n      <td>0.022348</td>\n      <td>-0.892694</td>\n      <td>0.372022</td>\n      <td>not significant</td>\n    </tr>\n    <tr>\n      <th rowspan=\"2\" valign=\"top\">number_of_answers_prime</th>\n      <th>1</th>\n      <td>[0.018830508032320645, 0.020337430206226578]</td>\n      <td>0.080026</td>\n      <td>-0.786519</td>\n      <td>0.431564</td>\n      <td>not significant</td>\n    </tr>\n    <tr>\n      <th>2</th>\n      <td>[0.018830508032320645, 0.017353844007255478]</td>\n      <td>-0.078419</td>\n      <td>0.849940</td>\n      <td>0.395359</td>\n      <td>not significant</td>\n    </tr>\n    <tr>\n      <th rowspan=\"2\" valign=\"top\">number_of_questions_asked_prime</th>\n      <th>1</th>\n      <td>[0.015490593443678091, 0.014269909592214226]</td>\n      <td>-0.078802</td>\n      <td>1.355171</td>\n      <td>0.175364</td>\n      <td>not significant</td>\n    </tr>\n    <tr>\n      <th>2</th>\n      <td>[0.015490593443678091, 0.015757988000558117]</td>\n      <td>0.017262</td>\n      <td>-0.284286</td>\n      <td>0.776192</td>\n      <td>not significant</td>\n    </tr>\n  </tbody>\n</table>\n</div>"
     },
     "execution_count": 7,
     "metadata": {},
     "output_type": "execute_result"
    }
   ],
   "source": [
    "metrics = ['times_user_logged_prime', 'number_of_answers_prime','number_of_questions_asked_prime']\n",
    "exp = Analysis(df=df, metrics=metrics, variant_col='experimentVariant', total_col='user_counter',\n",
    "               alpha=0.05, kind='mean')\n",
    "exp.results_df"
   ],
   "metadata": {
    "collapsed": false,
    "pycharm": {
     "name": "#%%\n"
    }
   }
  },
  {
   "cell_type": "markdown",
   "source": [
    "I will continue updating documentation of `da_toolkit` to describe all the capabilities.\n",
    "You can always run `help()` to get to know more about a module."
   ],
   "metadata": {
    "collapsed": false,
    "pycharm": {
     "name": "#%% md\n"
    }
   }
  },
  {
   "cell_type": "code",
   "execution_count": 8,
   "metadata": {
    "pycharm": {
     "name": "#%%\n"
    }
   },
   "outputs": [
    {
     "name": "stdout",
     "output_type": "stream",
     "text": [
      "Help on class Analysis in module da_toolkit.experiments:\n",
      "\n",
      "class Analysis(builtins.object)\n",
      " |  Analysis(df, metrics, variances=None, total_col='total_users', variant_col='variant', kind='prop', alpha=0.05)\n",
      " |  \n",
      " |  Methods defined here:\n",
      " |  \n",
      " |  __init__(self, df, metrics, variances=None, total_col='total_users', variant_col='variant', kind='prop', alpha=0.05)\n",
      " |      Initialize self.  See help(type(self)) for accurate signature.\n",
      " |  \n",
      " |  extract_variances(self)\n",
      " |  \n",
      " |  get_variants(self)\n",
      " |  \n",
      " |  run(self)\n",
      " |  \n",
      " |  save_to_df(self)\n",
      " |  \n",
      " |  sort_df(self)\n",
      " |  \n",
      " |  test_mean(self, metric, variance)\n",
      " |  \n",
      " |  test_prop(self, metric)\n",
      " |  \n",
      " |  ----------------------------------------------------------------------\n",
      " |  Data descriptors defined here:\n",
      " |  \n",
      " |  __dict__\n",
      " |      dictionary for instance variables (if defined)\n",
      " |  \n",
      " |  __weakref__\n",
      " |      list of weak references to the object (if defined)\n",
      "\n"
     ]
    }
   ],
   "source": [
    "help(Analysis)\n"
   ]
  },
  {
   "cell_type": "code",
   "execution_count": null,
   "outputs": [],
   "source": [],
   "metadata": {
    "collapsed": false,
    "pycharm": {
     "name": "#%%\n"
    }
   }
  }
 ],
 "metadata": {
  "kernelspec": {
   "display_name": "Python 3",
   "language": "python",
   "name": "python3"
  },
  "language_info": {
   "codemirror_mode": {
    "name": "ipython",
    "version": 3
   },
   "file_extension": ".py",
   "mimetype": "text/x-python",
   "name": "python",
   "nbconvert_exporter": "python",
   "pygments_lexer": "ipython3",
   "version": "3.9.2"
  }
 },
 "nbformat": 4,
 "nbformat_minor": 1
}